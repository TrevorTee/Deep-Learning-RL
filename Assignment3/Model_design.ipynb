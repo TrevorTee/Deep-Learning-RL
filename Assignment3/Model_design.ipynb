{
 "cells": [
  {
   "cell_type": "code",
   "execution_count": null,
   "metadata": {
    "colab": {
     "base_uri": "https://localhost:8080/"
    },
    "id": "-1LUQJiVvlIU",
    "outputId": "2fc21ee1-9ac8-4c0d-8c91-f681ee303715"
   },
   "outputs": [
    {
     "name": "stdout",
     "output_type": "stream",
     "text": [
      "[0 0 0 ... 1 1 1]\n"
     ]
    }
   ],
   "source": [
    "import numpy as np\n",
    "label_neg = [1]*12500\n",
    "label_pos = [0]*12500\n",
    "label = np.array(label_pos + label_neg)\n",
    "print(label)"
   ]
  },
  {
   "cell_type": "code",
   "execution_count": null,
   "metadata": {
    "colab": {
     "base_uri": "https://localhost:8080/"
    },
    "id": "905mNDkdxIU6",
    "outputId": "50696d13-2a0c-4ae4-d227-f07f0c77b92b"
   },
   "outputs": [
    {
     "name": "stdout",
     "output_type": "stream",
     "text": [
      "(50000, 500)\n",
      "(124253, 50)\n"
     ]
    }
   ],
   "source": [
    "weight_matrix = np.load('/content/drive/My Drive/weight_matrix.npy', allow_pickle=True)\n",
    "x_train = np.load('/content/drive/My Drive/x_train.npy', allow_pickle=True)\n",
    "print(x_train.shape)\n",
    "print(weight_matrix.shape)"
   ]
  },
  {
   "cell_type": "code",
   "execution_count": null,
   "metadata": {
    "id": "8Ar1aBHb1iRV"
   },
   "outputs": [],
   "source": [
    "x_train_pre = np.load('/content/drive/My Drive/x_train_pre.npy', allow_pickle=True)\n",
    "input_trainpre = x_train_pre[:25000]\n",
    "input_testpre = x_train_pre[25000:]"
   ]
  },
  {
   "cell_type": "code",
   "execution_count": null,
   "metadata": {
    "id": "u0t0GZSbxftg"
   },
   "outputs": [],
   "source": [
    "input_train = x_train[:25000]\n",
    "input_test = x_train[25000:]"
   ]
  },
  {
   "cell_type": "code",
   "execution_count": null,
   "metadata": {
    "id": "mXRrkQzLyn9u"
   },
   "outputs": [],
   "source": [
    "from keras.models import Sequential\n",
    "from keras.layers import Embedding, Dense, Dropout, Activation, Flatten, Input\n",
    "from keras.layers import SimpleRNN, LSTM"
   ]
  },
  {
   "cell_type": "code",
   "execution_count": null,
   "metadata": {
    "id": "qDwsRwGRyzxx"
   },
   "outputs": [],
   "source": [
    "def Vanilla_RNN(state):\n",
    "  model = Sequential()\n",
    "  model.add(\n",
    "        Embedding(input_dim=len(weight_matrix), output_dim=50,\n",
    "                  input_length=500, weights=[weight_matrix])\n",
    "      )\n",
    "  # model.add(\n",
    "  #       Embedding(input_dim=len(weight_matrix), output_dim=50, input_length=500)\n",
    "  #     )\n",
    "  model.add(SimpleRNN(units=state))\n",
    "  model.add(Dropout(0.1))\n",
    "  model.add(Dense(units=256, activation='relu'))\n",
    "  model.add(Dropout(0.1))\n",
    "  model.add(Dense(units=1, activation='sigmoid'))\n",
    "\n",
    "  model.compile(\n",
    "      loss='binary_crossentropy',\n",
    "      optimizer='rmsprop',\n",
    "      metrics=['accuracy']\n",
    "  )\n",
    "  return model"
   ]
  },
  {
   "cell_type": "code",
   "execution_count": null,
   "metadata": {
    "id": "KzWmCsev4ZAK"
   },
   "outputs": [],
   "source": [
    "def LSTM_model(state):\n",
    "  model = Sequential()\n",
    "  model.add(\n",
    "      Embedding(input_dim=len(weight_matrix), output_dim=50, \n",
    "                input_length=500, weights=[weight_matrix])\n",
    "  )\n",
    "  model.add(LSTM(units=state))\n",
    "  model.add(Dropout(0.1))\n",
    "  model.add(Dense(units=256, activation='relu'))\n",
    "  model.add(Dropout(0.1))\n",
    "  model.add(Dense(units=1, activation='sigmoid'))\n",
    "\n",
    "  model.compile(\n",
    "      loss='binary_crossentropy',\n",
    "      optimizer='rmsprop',\n",
    "      metrics=['accuracy']\n",
    "  )\n",
    "  return model"
   ]
  },
  {
   "cell_type": "code",
   "execution_count": null,
   "metadata": {
    "id": "4aG6VXnyy3xd"
   },
   "outputs": [],
   "source": [
    "# model = Vanilla_RNN(100)\n",
    "model = LSTM_model(20)\n",
    "model.fit(input_trainpre, label, batch_size=256, validation_split=0.1, epochs=10)"
   ]
  },
  {
   "cell_type": "code",
   "execution_count": null,
   "metadata": {
    "colab": {
     "base_uri": "https://localhost:8080/"
    },
    "id": "lqDn1GxY50B-",
    "outputId": "c3456b6a-9de7-4121-ead8-f17c9e96f8a2"
   },
   "outputs": [
    {
     "data": {
      "text/plain": [
       "<tensorflow.python.keras.callbacks.History at 0x7f72c6f4bf60>"
      ]
     },
     "execution_count": 32,
     "metadata": {
      "tags": []
     },
     "output_type": "execute_result"
    }
   ],
   "source": [
    "model.history"
   ]
  },
  {
   "cell_type": "code",
   "execution_count": null,
   "metadata": {
    "id": "7T6l4GuP4QtE"
   },
   "outputs": [],
   "source": [
    "states = [20, 50, 100, 200, 500]\n",
    "def runhyperParameters(states):\n",
    "  score_rnn = []\n",
    "  score_lstm = []\n",
    "  histrnn = []\n",
    "  histlstm = []\n",
    "  for state in states:\n",
    "    model_rnn = Vanilla_RNN(state)\n",
    "    history_RNN = model_rnn.fit(input_trainpre, label, batch_size=256, validation_split=0.1, epochs=10)\n",
    "    test_score_rnn = model_rnn.evaluate(input_testpre, label)\n",
    "    score_rnn.append(test_score_rnn)\n",
    "    histrnn.append(history_RNN)\n",
    "\n",
    "    model_lstm = LSTM_model(state)\n",
    "    history_lstm = model_lstm.fit(input_trainpre, label, batch_size=256, validation_split=0.1, epochs=10)\n",
    "    test_score_lstm = model_lstm.evaluate(input_testpre, label)\n",
    "    score_lstm.append(test_score_lstm)\n",
    "    histlstm.append(history_lstm)\n",
    "\n",
    "  return[histrnn, histlstm, score_rnn, score_lstm]"
   ]
  },
  {
   "cell_type": "code",
   "execution_count": 13,
   "metadata": {
    "colab": {
     "base_uri": "https://localhost:8080/",
     "height": 1000
    },
    "id": "V14a2Bgr8B_r",
    "outputId": "3894de72-0a20-4c15-8878-5d8084d2e33a"
   },
   "outputs": [
    {
     "name": "stdout",
     "output_type": "stream",
     "text": [
      "Epoch 1/10\n",
      "88/88 [==============================] - 23s 266ms/step - loss: 0.6702 - accuracy: 0.5887 - val_loss: 0.7539 - val_accuracy: 0.4880\n",
      "Epoch 2/10\n",
      "88/88 [==============================] - 23s 264ms/step - loss: 0.5770 - accuracy: 0.7030 - val_loss: 0.5317 - val_accuracy: 0.7540\n",
      "Epoch 3/10\n",
      "88/88 [==============================] - 23s 266ms/step - loss: 0.5225 - accuracy: 0.7508 - val_loss: 0.7989 - val_accuracy: 0.5416\n",
      "Epoch 4/10\n",
      "88/88 [==============================] - 23s 262ms/step - loss: 0.4829 - accuracy: 0.7787 - val_loss: 0.6705 - val_accuracy: 0.6692\n",
      "Epoch 5/10\n",
      "88/88 [==============================] - 23s 266ms/step - loss: 0.4751 - accuracy: 0.7821 - val_loss: 0.5786 - val_accuracy: 0.7096\n",
      "Epoch 6/10\n",
      "88/88 [==============================] - 23s 265ms/step - loss: 0.4314 - accuracy: 0.8132 - val_loss: 0.6196 - val_accuracy: 0.7152\n",
      "Epoch 7/10\n",
      "88/88 [==============================] - 23s 260ms/step - loss: 0.4036 - accuracy: 0.8287 - val_loss: 0.7551 - val_accuracy: 0.6032\n",
      "Epoch 8/10\n",
      "88/88 [==============================] - 23s 265ms/step - loss: 0.3788 - accuracy: 0.8421 - val_loss: 0.5647 - val_accuracy: 0.7628\n",
      "Epoch 9/10\n",
      "88/88 [==============================] - 23s 261ms/step - loss: 0.3527 - accuracy: 0.8564 - val_loss: 0.5170 - val_accuracy: 0.7844\n",
      "Epoch 10/10\n",
      "88/88 [==============================] - 23s 257ms/step - loss: 0.3341 - accuracy: 0.8664 - val_loss: 0.4211 - val_accuracy: 0.7940\n",
      "782/782 [==============================] - 23s 30ms/step - loss: 0.4671 - accuracy: 0.7911\n",
      "Epoch 1/10\n",
      "88/88 [==============================] - 40s 458ms/step - loss: 0.5956 - accuracy: 0.6768 - val_loss: 0.4806 - val_accuracy: 0.8028\n",
      "Epoch 2/10\n",
      "88/88 [==============================] - 40s 450ms/step - loss: 0.4736 - accuracy: 0.7816 - val_loss: 0.3095 - val_accuracy: 0.8948\n",
      "Epoch 3/10\n",
      "88/88 [==============================] - 40s 452ms/step - loss: 0.4110 - accuracy: 0.8216 - val_loss: 0.6478 - val_accuracy: 0.7364\n",
      "Epoch 4/10\n",
      "88/88 [==============================] - 40s 451ms/step - loss: 0.3588 - accuracy: 0.8501 - val_loss: 0.5184 - val_accuracy: 0.7804\n",
      "Epoch 5/10\n",
      "88/88 [==============================] - 39s 442ms/step - loss: 0.3115 - accuracy: 0.8737 - val_loss: 0.1776 - val_accuracy: 0.9448\n",
      "Epoch 6/10\n",
      "88/88 [==============================] - 40s 452ms/step - loss: 0.2721 - accuracy: 0.8926 - val_loss: 0.5071 - val_accuracy: 0.7748\n",
      "Epoch 7/10\n",
      "88/88 [==============================] - 39s 442ms/step - loss: 0.2337 - accuracy: 0.9103 - val_loss: 0.5198 - val_accuracy: 0.7916\n",
      "Epoch 8/10\n",
      "88/88 [==============================] - 40s 450ms/step - loss: 0.2065 - accuracy: 0.9220 - val_loss: 0.6593 - val_accuracy: 0.7584\n",
      "Epoch 9/10\n",
      "88/88 [==============================] - 40s 450ms/step - loss: 0.1744 - accuracy: 0.9357 - val_loss: 0.4712 - val_accuracy: 0.8200\n",
      "Epoch 10/10\n",
      "88/88 [==============================] - 40s 453ms/step - loss: 0.1504 - accuracy: 0.9456 - val_loss: 0.6750 - val_accuracy: 0.7696\n",
      "782/782 [==============================] - 29s 38ms/step - loss: 0.4165 - accuracy: 0.8500\n",
      "Epoch 1/10\n",
      "88/88 [==============================] - 35s 397ms/step - loss: 0.6706 - accuracy: 0.5837 - val_loss: 0.8414 - val_accuracy: 0.3728\n",
      "Epoch 2/10\n",
      "88/88 [==============================] - 31s 353ms/step - loss: 0.6010 - accuracy: 0.6812 - val_loss: 0.9516 - val_accuracy: 0.3620\n",
      "Epoch 3/10\n",
      "88/88 [==============================] - 32s 359ms/step - loss: 0.5387 - accuracy: 0.7355 - val_loss: 0.6750 - val_accuracy: 0.6304\n",
      "Epoch 4/10\n",
      "88/88 [==============================] - 32s 361ms/step - loss: 0.4985 - accuracy: 0.7708 - val_loss: 0.5327 - val_accuracy: 0.7436\n",
      "Epoch 5/10\n",
      "88/88 [==============================] - 32s 362ms/step - loss: 0.4656 - accuracy: 0.7897 - val_loss: 0.3306 - val_accuracy: 0.8472\n",
      "Epoch 6/10\n",
      "88/88 [==============================] - 33s 372ms/step - loss: 0.4352 - accuracy: 0.8081 - val_loss: 0.4100 - val_accuracy: 0.8232\n",
      "Epoch 7/10\n",
      "88/88 [==============================] - 32s 359ms/step - loss: 0.4125 - accuracy: 0.8227 - val_loss: 0.5572 - val_accuracy: 0.7432\n",
      "Epoch 8/10\n",
      "88/88 [==============================] - 32s 359ms/step - loss: 0.3897 - accuracy: 0.8386 - val_loss: 0.3965 - val_accuracy: 0.8424\n",
      "Epoch 9/10\n",
      "88/88 [==============================] - 31s 355ms/step - loss: 0.3658 - accuracy: 0.8500 - val_loss: 0.6146 - val_accuracy: 0.6776\n",
      "Epoch 10/10\n",
      "88/88 [==============================] - 31s 357ms/step - loss: 0.3432 - accuracy: 0.8624 - val_loss: 0.6867 - val_accuracy: 0.6676\n",
      "782/782 [==============================] - 22s 29ms/step - loss: 0.4863 - accuracy: 0.7854\n",
      "Epoch 1/10\n",
      "88/88 [==============================] - 76s 865ms/step - loss: 0.6101 - accuracy: 0.6614 - val_loss: 1.0588 - val_accuracy: 0.3608\n",
      "Epoch 2/10\n",
      "88/88 [==============================] - 78s 882ms/step - loss: 0.4929 - accuracy: 0.7698 - val_loss: 0.2099 - val_accuracy: 0.9456\n",
      "Epoch 3/10\n",
      "88/88 [==============================] - 75s 854ms/step - loss: 0.4266 - accuracy: 0.8114 - val_loss: 0.2011 - val_accuracy: 0.9300\n",
      "Epoch 4/10\n",
      "88/88 [==============================] - 77s 880ms/step - loss: 0.3717 - accuracy: 0.8416 - val_loss: 0.4922 - val_accuracy: 0.7532\n",
      "Epoch 5/10\n",
      "88/88 [==============================] - 74s 844ms/step - loss: 0.3228 - accuracy: 0.8636 - val_loss: 0.2871 - val_accuracy: 0.8808\n",
      "Epoch 6/10\n",
      "88/88 [==============================] - 76s 860ms/step - loss: 0.2917 - accuracy: 0.8834 - val_loss: 0.3337 - val_accuracy: 0.8612\n",
      "Epoch 7/10\n",
      "88/88 [==============================] - 74s 836ms/step - loss: 0.2599 - accuracy: 0.8971 - val_loss: 0.2963 - val_accuracy: 0.8920\n",
      "Epoch 8/10\n",
      "88/88 [==============================] - 74s 843ms/step - loss: 0.2321 - accuracy: 0.9104 - val_loss: 0.2867 - val_accuracy: 0.8816\n",
      "Epoch 9/10\n",
      "88/88 [==============================] - 74s 842ms/step - loss: 0.2057 - accuracy: 0.9220 - val_loss: 0.2823 - val_accuracy: 0.8912\n",
      "Epoch 10/10\n",
      "88/88 [==============================] - 76s 861ms/step - loss: 0.1831 - accuracy: 0.9324 - val_loss: 0.3497 - val_accuracy: 0.8736\n",
      "782/782 [==============================] - 46s 59ms/step - loss: 0.3303 - accuracy: 0.8755\n",
      "Epoch 1/10\n",
      "88/88 [==============================] - 55s 626ms/step - loss: 0.6624 - accuracy: 0.6037 - val_loss: 0.7615 - val_accuracy: 0.5032\n",
      "Epoch 2/10\n",
      "88/88 [==============================] - 58s 660ms/step - loss: 0.5947 - accuracy: 0.6866 - val_loss: 0.6871 - val_accuracy: 0.5456\n",
      "Epoch 3/10\n",
      "88/88 [==============================] - 55s 621ms/step - loss: 0.5346 - accuracy: 0.7368 - val_loss: 0.6208 - val_accuracy: 0.6600\n",
      "Epoch 4/10\n",
      "88/88 [==============================] - 54s 615ms/step - loss: 0.5038 - accuracy: 0.7616 - val_loss: 0.7049 - val_accuracy: 0.5020\n",
      "Epoch 5/10\n",
      "88/88 [==============================] - 55s 629ms/step - loss: 0.4656 - accuracy: 0.7886 - val_loss: 0.4660 - val_accuracy: 0.8292\n",
      "Epoch 6/10\n",
      "88/88 [==============================] - 55s 621ms/step - loss: 0.4268 - accuracy: 0.8090 - val_loss: 0.5010 - val_accuracy: 0.7640\n",
      "Epoch 7/10\n",
      "88/88 [==============================] - 55s 622ms/step - loss: 0.4049 - accuracy: 0.8234 - val_loss: 0.7236 - val_accuracy: 0.6196\n",
      "Epoch 8/10\n",
      "88/88 [==============================] - 55s 626ms/step - loss: 0.3908 - accuracy: 0.8363 - val_loss: 0.7186 - val_accuracy: 0.6848\n",
      "Epoch 9/10\n",
      "88/88 [==============================] - 55s 631ms/step - loss: 0.3788 - accuracy: 0.8385 - val_loss: 0.5069 - val_accuracy: 0.8144\n",
      "Epoch 10/10\n",
      "88/88 [==============================] - 56s 631ms/step - loss: 0.3319 - accuracy: 0.8629 - val_loss: 0.5782 - val_accuracy: 0.7288\n",
      "782/782 [==============================] - 31s 39ms/step - loss: 0.4811 - accuracy: 0.7840\n",
      "Epoch 1/10\n",
      "88/88 [==============================] - 197s 2s/step - loss: 0.6219 - accuracy: 0.6572 - val_loss: 0.5737 - val_accuracy: 0.6856\n",
      "Epoch 2/10\n",
      "88/88 [==============================] - 195s 2s/step - loss: 0.5176 - accuracy: 0.7528 - val_loss: 0.6991 - val_accuracy: 0.5944\n",
      "Epoch 3/10\n",
      "88/88 [==============================] - 194s 2s/step - loss: 0.4468 - accuracy: 0.7976 - val_loss: 0.5248 - val_accuracy: 0.7576\n",
      "Epoch 4/10\n",
      "88/88 [==============================] - 201s 2s/step - loss: 0.3899 - accuracy: 0.8328 - val_loss: 0.2318 - val_accuracy: 0.9296\n",
      "Epoch 5/10\n",
      "88/88 [==============================] - 197s 2s/step - loss: 0.3494 - accuracy: 0.8550 - val_loss: 0.8078 - val_accuracy: 0.6220\n",
      "Epoch 6/10\n",
      "88/88 [==============================] - 196s 2s/step - loss: 0.3081 - accuracy: 0.8769 - val_loss: 0.2435 - val_accuracy: 0.8996\n",
      "Epoch 7/10\n",
      "88/88 [==============================] - 196s 2s/step - loss: 0.2752 - accuracy: 0.8900 - val_loss: 0.5130 - val_accuracy: 0.7432\n",
      "Epoch 8/10\n",
      "88/88 [==============================] - 190s 2s/step - loss: 0.2421 - accuracy: 0.9045 - val_loss: 0.6410 - val_accuracy: 0.7268\n",
      "Epoch 9/10\n",
      "88/88 [==============================] - 188s 2s/step - loss: 0.2126 - accuracy: 0.9192 - val_loss: 0.8112 - val_accuracy: 0.7492\n",
      "Epoch 10/10\n",
      "88/88 [==============================] - 196s 2s/step - loss: 0.1912 - accuracy: 0.9296 - val_loss: 0.4255 - val_accuracy: 0.8500\n",
      "782/782 [==============================] - 79s 100ms/step - loss: 0.3333 - accuracy: 0.8767\n",
      "Epoch 1/10\n",
      "88/88 [==============================] - 123s 1s/step - loss: 0.6723 - accuracy: 0.6003 - val_loss: 0.7426 - val_accuracy: 0.5168\n",
      "Epoch 2/10\n",
      "88/88 [==============================] - 122s 1s/step - loss: 0.5952 - accuracy: 0.6832 - val_loss: 0.6198 - val_accuracy: 0.6392\n",
      "Epoch 3/10\n",
      "88/88 [==============================] - 123s 1s/step - loss: 0.5385 - accuracy: 0.7281 - val_loss: 0.5791 - val_accuracy: 0.7040\n",
      "Epoch 4/10\n",
      "88/88 [==============================] - 127s 1s/step - loss: 0.4846 - accuracy: 0.7699 - val_loss: 0.4970 - val_accuracy: 0.7920\n",
      "Epoch 5/10\n",
      "88/88 [==============================] - 121s 1s/step - loss: 0.4538 - accuracy: 0.7896 - val_loss: 0.5145 - val_accuracy: 0.7564\n",
      "Epoch 6/10\n",
      "88/88 [==============================] - 122s 1s/step - loss: 0.4107 - accuracy: 0.8151 - val_loss: 0.6250 - val_accuracy: 0.6760\n",
      "Epoch 7/10\n",
      "88/88 [==============================] - 123s 1s/step - loss: 0.3797 - accuracy: 0.8313 - val_loss: 0.7105 - val_accuracy: 0.6724\n",
      "Epoch 8/10\n",
      "88/88 [==============================] - 126s 1s/step - loss: 0.3420 - accuracy: 0.8524 - val_loss: 0.4385 - val_accuracy: 0.8120\n",
      "Epoch 9/10\n",
      "88/88 [==============================] - 130s 1s/step - loss: 0.3035 - accuracy: 0.8722 - val_loss: 0.7677 - val_accuracy: 0.6344\n",
      "Epoch 10/10\n",
      "88/88 [==============================] - 123s 1s/step - loss: 0.2925 - accuracy: 0.8783 - val_loss: 0.5475 - val_accuracy: 0.7484\n",
      "782/782 [==============================] - 66s 84ms/step - loss: 0.5279 - accuracy: 0.7696\n",
      "Epoch 1/10\n",
      "88/88 [==============================] - 418s 5s/step - loss: 0.6425 - accuracy: 0.6405 - val_loss: 1.1556 - val_accuracy: 0.1056\n",
      "Epoch 2/10\n",
      "88/88 [==============================] - 413s 5s/step - loss: 0.5451 - accuracy: 0.7309 - val_loss: 0.4918 - val_accuracy: 0.7796\n",
      "Epoch 3/10\n",
      "88/88 [==============================] - 409s 5s/step - loss: 0.4611 - accuracy: 0.7896 - val_loss: 0.4018 - val_accuracy: 0.8404\n",
      "Epoch 4/10\n",
      "88/88 [==============================] - 408s 5s/step - loss: 0.4038 - accuracy: 0.8233 - val_loss: 0.3197 - val_accuracy: 0.8876\n",
      "Epoch 5/10\n",
      "88/88 [==============================] - 404s 5s/step - loss: 0.3597 - accuracy: 0.8478 - val_loss: 0.4553 - val_accuracy: 0.7916\n",
      "Epoch 6/10\n",
      "88/88 [==============================] - 411s 5s/step - loss: 0.3114 - accuracy: 0.8744 - val_loss: 0.2403 - val_accuracy: 0.8956\n",
      "Epoch 7/10\n",
      "88/88 [==============================] - 415s 5s/step - loss: 0.2879 - accuracy: 0.8881 - val_loss: 0.4711 - val_accuracy: 0.8068\n",
      "Epoch 8/10\n",
      "88/88 [==============================] - 418s 5s/step - loss: 0.2500 - accuracy: 0.9017 - val_loss: 0.2351 - val_accuracy: 0.9096\n",
      "Epoch 9/10\n",
      "88/88 [==============================] - 418s 5s/step - loss: 0.2193 - accuracy: 0.9148 - val_loss: 0.3316 - val_accuracy: 0.8792\n",
      "Epoch 10/10\n",
      "88/88 [==============================] - 409s 5s/step - loss: 0.1923 - accuracy: 0.9277 - val_loss: 0.5447 - val_accuracy: 0.7748\n",
      "782/782 [==============================] - 245s 313ms/step - loss: 0.3582 - accuracy: 0.8574\n",
      "Epoch 1/10\n",
      "88/88 [==============================] - 461s 5s/step - loss: 0.9541 - accuracy: 0.5139 - val_loss: 0.3505 - val_accuracy: 0.9480\n",
      "Epoch 2/10\n",
      "88/88 [==============================] - 459s 5s/step - loss: 0.9300 - accuracy: 0.5236 - val_loss: 0.9696 - val_accuracy: 0.0044\n",
      "Epoch 3/10\n",
      "88/88 [==============================] - 451s 5s/step - loss: 0.7473 - accuracy: 0.5341 - val_loss: 0.9498 - val_accuracy: 0.0016\n",
      "Epoch 4/10\n",
      "88/88 [==============================] - 454s 5s/step - loss: 0.7220 - accuracy: 0.5505 - val_loss: 1.0567 - val_accuracy: 0.0496\n",
      "Epoch 5/10\n",
      "88/88 [==============================] - 464s 5s/step - loss: 0.7104 - accuracy: 0.5681 - val_loss: 0.8935 - val_accuracy: 0.1844\n",
      "Epoch 6/10\n",
      "88/88 [==============================] - 459s 5s/step - loss: 0.6878 - accuracy: 0.5941 - val_loss: 0.6943 - val_accuracy: 0.4816\n",
      "Epoch 7/10\n",
      "88/88 [==============================] - 452s 5s/step - loss: 0.6849 - accuracy: 0.6175 - val_loss: 0.5565 - val_accuracy: 0.7248\n",
      "Epoch 8/10\n",
      "88/88 [==============================] - 452s 5s/step - loss: 0.6129 - accuracy: 0.6815 - val_loss: 0.7990 - val_accuracy: 0.5324\n",
      "Epoch 9/10\n",
      "88/88 [==============================] - 459s 5s/step - loss: 0.6034 - accuracy: 0.7016 - val_loss: 0.3579 - val_accuracy: 0.8556\n",
      "Epoch 10/10\n",
      "88/88 [==============================] - 454s 5s/step - loss: 0.5387 - accuracy: 0.7402 - val_loss: 0.5459 - val_accuracy: 0.7172\n",
      "782/782 [==============================] - 273s 348ms/step - loss: 0.5192 - accuracy: 0.7536\n",
      "Epoch 1/10\n",
      "88/88 [==============================] - 1871s 21s/step - loss: 0.7071 - accuracy: 0.6028 - val_loss: 0.6511 - val_accuracy: 0.6444\n",
      "Epoch 2/10\n",
      "88/88 [==============================] - 1831s 21s/step - loss: 0.6245 - accuracy: 0.6790 - val_loss: 0.0105 - val_accuracy: 0.9980\n",
      "Epoch 3/10\n",
      "88/88 [==============================] - 1825s 21s/step - loss: 0.5842 - accuracy: 0.7174 - val_loss: 0.5939 - val_accuracy: 0.6692\n",
      "Epoch 4/10\n",
      "88/88 [==============================] - 1833s 21s/step - loss: 0.4985 - accuracy: 0.7728 - val_loss: 0.4819 - val_accuracy: 0.7924\n",
      "Epoch 5/10\n",
      "88/88 [==============================] - 1831s 21s/step - loss: 0.4203 - accuracy: 0.8156 - val_loss: 0.3676 - val_accuracy: 0.8680\n",
      "Epoch 6/10\n",
      "88/88 [==============================] - 1808s 21s/step - loss: 0.3636 - accuracy: 0.8455 - val_loss: 0.6169 - val_accuracy: 0.7384\n",
      "Epoch 7/10\n",
      "88/88 [==============================] - 1812s 21s/step - loss: 0.3330 - accuracy: 0.8618 - val_loss: 0.2845 - val_accuracy: 0.8876\n",
      "Epoch 8/10\n",
      "88/88 [==============================] - 1817s 21s/step - loss: 0.2802 - accuracy: 0.8857 - val_loss: 0.3625 - val_accuracy: 0.8532\n",
      "Epoch 9/10\n",
      "88/88 [==============================] - 1807s 21s/step - loss: 0.2503 - accuracy: 0.9045 - val_loss: 0.4193 - val_accuracy: 0.8144\n",
      "Epoch 10/10\n",
      "88/88 [==============================] - 1785s 20s/step - loss: 0.2313 - accuracy: 0.9097 - val_loss: 0.4825 - val_accuracy: 0.8068\n",
      "782/782 [==============================] - 1000s 1s/step - loss: 0.3498 - accuracy: 0.8615\n"
     ]
    },
    {
     "ename": "TypeError",
     "evalue": "ignored",
     "output_type": "error",
     "traceback": [
      "\u001b[0;31m---------------------------------------------------------------------------\u001b[0m",
      "\u001b[0;31mTypeError\u001b[0m                                 Traceback (most recent call last)",
      "\u001b[0;32m<ipython-input-13-9b8e31f74a08>\u001b[0m in \u001b[0;36m<module>\u001b[0;34m()\u001b[0m\n\u001b[1;32m      1\u001b[0m \u001b[0mhistrnn\u001b[0m\u001b[0;34m,\u001b[0m \u001b[0mhistlstm\u001b[0m\u001b[0;34m,\u001b[0m \u001b[0mscore_rnn\u001b[0m\u001b[0;34m,\u001b[0m \u001b[0mscore_lstm\u001b[0m \u001b[0;34m=\u001b[0m \u001b[0mrunhyperParameters\u001b[0m\u001b[0;34m(\u001b[0m\u001b[0mstates\u001b[0m\u001b[0;34m)\u001b[0m\u001b[0;34m\u001b[0m\u001b[0;34m\u001b[0m\u001b[0m\n\u001b[0;32m----> 2\u001b[0;31m \u001b[0mnp\u001b[0m\u001b[0;34m.\u001b[0m\u001b[0msave\u001b[0m\u001b[0;34m(\u001b[0m\u001b[0;34m'/content/drive/My Drive/histrnn.npy'\u001b[0m\u001b[0;34m,\u001b[0m\u001b[0mhistrnn\u001b[0m\u001b[0;34m)\u001b[0m\u001b[0;34m\u001b[0m\u001b[0;34m\u001b[0m\u001b[0m\n\u001b[0m\u001b[1;32m      3\u001b[0m \u001b[0mnp\u001b[0m\u001b[0;34m.\u001b[0m\u001b[0msave\u001b[0m\u001b[0;34m(\u001b[0m\u001b[0;34m'/content/drive/My Drive/histlstm.npy'\u001b[0m\u001b[0;34m,\u001b[0m\u001b[0mhistlstm\u001b[0m\u001b[0;34m)\u001b[0m\u001b[0;34m\u001b[0m\u001b[0;34m\u001b[0m\u001b[0m\n\u001b[1;32m      4\u001b[0m \u001b[0mnp\u001b[0m\u001b[0;34m.\u001b[0m\u001b[0msave\u001b[0m\u001b[0;34m(\u001b[0m\u001b[0;34m'/content/drive/My Drive/score_rnn.npy'\u001b[0m\u001b[0;34m,\u001b[0m \u001b[0mscore_rnn\u001b[0m\u001b[0;34m)\u001b[0m\u001b[0;34m\u001b[0m\u001b[0;34m\u001b[0m\u001b[0m\n\u001b[1;32m      5\u001b[0m \u001b[0mnp\u001b[0m\u001b[0;34m.\u001b[0m\u001b[0msave\u001b[0m\u001b[0;34m(\u001b[0m\u001b[0;34m'/content/drive/My Drive/score_lstm.npy'\u001b[0m\u001b[0;34m,\u001b[0m \u001b[0mscore_lstm\u001b[0m\u001b[0;34m)\u001b[0m\u001b[0;34m\u001b[0m\u001b[0;34m\u001b[0m\u001b[0m\n",
      "\u001b[0;32m<__array_function__ internals>\u001b[0m in \u001b[0;36msave\u001b[0;34m(*args, **kwargs)\u001b[0m\n",
      "\u001b[0;32m/usr/local/lib/python3.6/dist-packages/numpy/lib/npyio.py\u001b[0m in \u001b[0;36msave\u001b[0;34m(file, arr, allow_pickle, fix_imports)\u001b[0m\n\u001b[1;32m    551\u001b[0m         \u001b[0marr\u001b[0m \u001b[0;34m=\u001b[0m \u001b[0mnp\u001b[0m\u001b[0;34m.\u001b[0m\u001b[0masanyarray\u001b[0m\u001b[0;34m(\u001b[0m\u001b[0marr\u001b[0m\u001b[0;34m)\u001b[0m\u001b[0;34m\u001b[0m\u001b[0;34m\u001b[0m\u001b[0m\n\u001b[1;32m    552\u001b[0m         format.write_array(fid, arr, allow_pickle=allow_pickle,\n\u001b[0;32m--> 553\u001b[0;31m                            pickle_kwargs=pickle_kwargs)\n\u001b[0m\u001b[1;32m    554\u001b[0m     \u001b[0;32mfinally\u001b[0m\u001b[0;34m:\u001b[0m\u001b[0;34m\u001b[0m\u001b[0;34m\u001b[0m\u001b[0m\n\u001b[1;32m    555\u001b[0m         \u001b[0;32mif\u001b[0m \u001b[0mown_fid\u001b[0m\u001b[0;34m:\u001b[0m\u001b[0;34m\u001b[0m\u001b[0;34m\u001b[0m\u001b[0m\n",
      "\u001b[0;32m/usr/local/lib/python3.6/dist-packages/numpy/lib/format.py\u001b[0m in \u001b[0;36mwrite_array\u001b[0;34m(fp, array, version, allow_pickle, pickle_kwargs)\u001b[0m\n\u001b[1;32m    674\u001b[0m         \u001b[0;32mif\u001b[0m \u001b[0mpickle_kwargs\u001b[0m \u001b[0;32mis\u001b[0m \u001b[0;32mNone\u001b[0m\u001b[0;34m:\u001b[0m\u001b[0;34m\u001b[0m\u001b[0;34m\u001b[0m\u001b[0m\n\u001b[1;32m    675\u001b[0m             \u001b[0mpickle_kwargs\u001b[0m \u001b[0;34m=\u001b[0m \u001b[0;34m{\u001b[0m\u001b[0;34m}\u001b[0m\u001b[0;34m\u001b[0m\u001b[0;34m\u001b[0m\u001b[0m\n\u001b[0;32m--> 676\u001b[0;31m         \u001b[0mpickle\u001b[0m\u001b[0;34m.\u001b[0m\u001b[0mdump\u001b[0m\u001b[0;34m(\u001b[0m\u001b[0marray\u001b[0m\u001b[0;34m,\u001b[0m \u001b[0mfp\u001b[0m\u001b[0;34m,\u001b[0m \u001b[0mprotocol\u001b[0m\u001b[0;34m=\u001b[0m\u001b[0;36m3\u001b[0m\u001b[0;34m,\u001b[0m \u001b[0;34m**\u001b[0m\u001b[0mpickle_kwargs\u001b[0m\u001b[0;34m)\u001b[0m\u001b[0;34m\u001b[0m\u001b[0;34m\u001b[0m\u001b[0m\n\u001b[0m\u001b[1;32m    677\u001b[0m     \u001b[0;32melif\u001b[0m \u001b[0marray\u001b[0m\u001b[0;34m.\u001b[0m\u001b[0mflags\u001b[0m\u001b[0;34m.\u001b[0m\u001b[0mf_contiguous\u001b[0m \u001b[0;32mand\u001b[0m \u001b[0;32mnot\u001b[0m \u001b[0marray\u001b[0m\u001b[0;34m.\u001b[0m\u001b[0mflags\u001b[0m\u001b[0;34m.\u001b[0m\u001b[0mc_contiguous\u001b[0m\u001b[0;34m:\u001b[0m\u001b[0;34m\u001b[0m\u001b[0;34m\u001b[0m\u001b[0m\n\u001b[1;32m    678\u001b[0m         \u001b[0;32mif\u001b[0m \u001b[0misfileobj\u001b[0m\u001b[0;34m(\u001b[0m\u001b[0mfp\u001b[0m\u001b[0;34m)\u001b[0m\u001b[0;34m:\u001b[0m\u001b[0;34m\u001b[0m\u001b[0;34m\u001b[0m\u001b[0m\n",
      "\u001b[0;31mTypeError\u001b[0m: can't pickle _thread.RLock objects"
     ]
    }
   ],
   "source": [
    "histrnn, histlstm, score_rnn, score_lstm = runhyperParameters(states)\n",
    "np.save('/content/drive/My Drive/histrnn.npy',histrnn)\n",
    "np.save('/content/drive/My Drive/histlstm.npy',histlstm)\n",
    "np.save('/content/drive/My Drive/score_rnn.npy', score_rnn)\n",
    "np.save('/content/drive/My Drive/score_lstm.npy', score_lstm)"
   ]
  },
  {
   "cell_type": "code",
   "execution_count": 67,
   "metadata": {
    "colab": {
     "base_uri": "https://localhost:8080/",
     "height": 174
    },
    "id": "p30_C63B2_o0",
    "outputId": "731561e3-21f7-4f7a-a8c7-c81309fb2c89"
   },
   "outputs": [
    {
     "data": {
      "image/png": "[encoded data removed]",
      "text/plain": [
       "<Figure size 432x288 with 2 Axes>"
      ]
     },
     "metadata": {
      "needs_background": "light",
      "tags": []
     },
     "output_type": "display_data"
    }
   ],
   "source": [
    "import matplotlib.pyplot as plt\n",
    "plot_label={1:'accuracy', 2:'loss', 3:'val_accuracy'}\n",
    "def plotHist(hist, score):\n",
    "  fig = plt.figure(3)\n",
    "  for index in range(1, 3):\n",
    "    plt.subplot(2, 2, index)\n",
    "    plt.xlabel(\"Epoch\")\n",
    "    plt.ylabel(plot_label[index])\n",
    "    for state_index, state_val in enumerate(states):\n",
    "      plt.plot(hist[state_index].epoch,hist[state_index].history[plot_label[index]], label=state_val)\n",
    "      plt.legend()\n",
    "  fig.tight_layout()\n",
    "plotHist(histrnn)\n",
    "plt.show()"
   ]
  },
  {
   "cell_type": "code",
   "execution_count": 68,
   "metadata": {
    "colab": {
     "base_uri": "https://localhost:8080/",
     "height": 174
    },
    "id": "nYA2WiOjekN1",
    "outputId": "160e4430-4e0c-4297-c13c-8171c0f66633"
   },
   "outputs": [
    {
     "data": {
      "image/png": "[encoded data removed]",
      "text/plain": [
       "<Figure size 432x288 with 2 Axes>"
      ]
     },
     "metadata": {
      "needs_background": "light",
      "tags": []
     },
     "output_type": "display_data"
    }
   ],
   "source": [
    "plotHist(histlstm)\n",
    "plt.show()"
   ]
  },
  {
   "cell_type": "code",
   "execution_count": 80,
   "metadata": {
    "id": "DFUvfyRSeuRt"
   },
   "outputs": [],
   "source": [
    "rnn_accuracy = [ s[1] for s in score_rnn]\n",
    "lstm_accuracy = [s[1] for s in score_lstm]\n",
    "rnn_loss = [ s[0] for s in score_rnn]\n",
    "lstm_loss = [s[0] for s in score_lstm]"
   ]
  },
  {
   "cell_type": "code",
   "execution_count": 83,
   "metadata": {
    "colab": {
     "base_uri": "https://localhost:8080/",
     "height": 279
    },
    "id": "9tcyYx3LYjVM",
    "outputId": "b61c8a66-6e21-4f68-ee94-dad9ab741497"
   },
   "outputs": [
    {
     "data": {
      "image/png": "[encoded data removed]",
      "text/plain": [
       "<Figure size 432x288 with 1 Axes>"
      ]
     },
     "metadata": {
      "needs_background": "light",
      "tags": []
     },
     "output_type": "display_data"
    }
   ],
   "source": [
    "plt.plot(states, rnn_accuracy, label='Vanilla_RNN')\n",
    "plt.legend(loc='center right')\n",
    "plt.plot(states, lstm_accuracy, label='LSTM')\n",
    "plt.legend(loc='center right')\n",
    "plt.xlabel(\"States\")\n",
    "plt.ylabel(\"Accuracy\")\n",
    "plt.show()"
   ]
  },
  {
   "cell_type": "code",
   "execution_count": 84,
   "metadata": {
    "colab": {
     "base_uri": "https://localhost:8080/",
     "height": 279
    },
    "id": "xMwlZE1vjSvV",
    "outputId": "d4ba0534-fa6d-4101-bab0-d1134639b623"
   },
   "outputs": [
    {
     "data": {
      "image/png": "[encoded data removed]",
      "text/plain": [
       "<Figure size 432x288 with 1 Axes>"
      ]
     },
     "metadata": {
      "needs_background": "light",
      "tags": []
     },
     "output_type": "display_data"
    }
   ],
   "source": [
    "plt.plot(states, rnn_loss, label='Vanilla_RNN')\n",
    "plt.legend(loc='center right')\n",
    "plt.plot(states, lstm_loss, label='LSTM')\n",
    "plt.legend(loc='center right')\n",
    "plt.xlabel(\"States\")\n",
    "plt.ylabel(\"Loss\")\n",
    "plt.show()"
   ]
  },
  {
   "cell_type": "code",
   "execution_count": 2,
   "metadata": {
    "colab": {
     "base_uri": "https://localhost:8080/"
    },
    "id": "4t2qTN08SirD",
    "outputId": "535c4b0b-bbc2-4827-d2c7-41d246623926"
   },
   "outputs": [
    {
     "name": "stdout",
     "output_type": "stream",
     "text": [
      "\n"
     ]
    }
   ],
   "source": []
  },
  {
   "cell_type": "code",
   "execution_count": null,
   "metadata": {},
   "outputs": [],
   "source": []
  }
 ],
 "metadata": {
  "colab": {
   "collapsed_sections": [],
   "name": "Model_design.ipynb",
   "provenance": []
  },
  "kernelspec": {
   "display_name": "Python 3",
   "language": "python",
   "name": "python3"
  },
  "language_info": {
   "codemirror_mode": {
    "name": "ipython",
    "version": 3
   },
   "file_extension": ".py",
   "mimetype": "text/x-python",
   "name": "python",
   "nbconvert_exporter": "python",
   "pygments_lexer": "ipython3",
   "version": "3.7.4"
  }
 },
 "nbformat": 4,
 "nbformat_minor": 1
}
